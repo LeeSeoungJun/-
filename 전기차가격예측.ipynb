{
 "cells": [
  {
   "cell_type": "code",
   "execution_count": 56,
   "id": "d2a2c819",
   "metadata": {},
   "outputs": [],
   "source": [
    "import pandas as pd\n",
    "import matplotlib.pyplot as plt\n",
    "import numpy as np\n",
    "import seaborn as sns"
   ]
  },
  {
   "cell_type": "code",
   "execution_count": 57,
   "id": "5f9918f3",
   "metadata": {
    "scrolled": true
   },
   "outputs": [
    {
     "data": {
      "text/html": [
       "<div>\n",
       "<style scoped>\n",
       "    .dataframe tbody tr th:only-of-type {\n",
       "        vertical-align: middle;\n",
       "    }\n",
       "\n",
       "    .dataframe tbody tr th {\n",
       "        vertical-align: top;\n",
       "    }\n",
       "\n",
       "    .dataframe thead th {\n",
       "        text-align: right;\n",
       "    }\n",
       "</style>\n",
       "<table border=\"1\" class=\"dataframe\">\n",
       "  <thead>\n",
       "    <tr style=\"text-align: right;\">\n",
       "      <th></th>\n",
       "      <th>ID</th>\n",
       "      <th>제조사</th>\n",
       "      <th>모델</th>\n",
       "      <th>차량상태</th>\n",
       "      <th>배터리용량</th>\n",
       "      <th>구동방식</th>\n",
       "      <th>주행거리(km)</th>\n",
       "      <th>보증기간(년)</th>\n",
       "      <th>사고이력</th>\n",
       "      <th>연식(년)</th>\n",
       "      <th>가격(백만원)</th>\n",
       "    </tr>\n",
       "  </thead>\n",
       "  <tbody>\n",
       "    <tr>\n",
       "      <th>0</th>\n",
       "      <td>TRAIN_0000</td>\n",
       "      <td>P사</td>\n",
       "      <td>TayGTS</td>\n",
       "      <td>Nearly New</td>\n",
       "      <td>86.077</td>\n",
       "      <td>AWD</td>\n",
       "      <td>13642</td>\n",
       "      <td>0</td>\n",
       "      <td>No</td>\n",
       "      <td>2</td>\n",
       "      <td>159.66</td>\n",
       "    </tr>\n",
       "    <tr>\n",
       "      <th>1</th>\n",
       "      <td>TRAIN_0001</td>\n",
       "      <td>K사</td>\n",
       "      <td>Niro</td>\n",
       "      <td>Nearly New</td>\n",
       "      <td>56.000</td>\n",
       "      <td>FWD</td>\n",
       "      <td>10199</td>\n",
       "      <td>6</td>\n",
       "      <td>No</td>\n",
       "      <td>0</td>\n",
       "      <td>28.01</td>\n",
       "    </tr>\n",
       "    <tr>\n",
       "      <th>2</th>\n",
       "      <td>TRAIN_0002</td>\n",
       "      <td>A사</td>\n",
       "      <td>eT</td>\n",
       "      <td>Brand New</td>\n",
       "      <td>91.200</td>\n",
       "      <td>AWD</td>\n",
       "      <td>2361</td>\n",
       "      <td>7</td>\n",
       "      <td>No</td>\n",
       "      <td>0</td>\n",
       "      <td>66.27</td>\n",
       "    </tr>\n",
       "    <tr>\n",
       "      <th>3</th>\n",
       "      <td>TRAIN_0003</td>\n",
       "      <td>A사</td>\n",
       "      <td>RSeTGT</td>\n",
       "      <td>Nearly New</td>\n",
       "      <td>NaN</td>\n",
       "      <td>AWD</td>\n",
       "      <td>21683</td>\n",
       "      <td>3</td>\n",
       "      <td>No</td>\n",
       "      <td>0</td>\n",
       "      <td>99.16</td>\n",
       "    </tr>\n",
       "    <tr>\n",
       "      <th>4</th>\n",
       "      <td>TRAIN_0004</td>\n",
       "      <td>B사</td>\n",
       "      <td>i5</td>\n",
       "      <td>Pre-Owned</td>\n",
       "      <td>61.018</td>\n",
       "      <td>AWD</td>\n",
       "      <td>178205</td>\n",
       "      <td>1</td>\n",
       "      <td>No</td>\n",
       "      <td>0</td>\n",
       "      <td>62.02</td>\n",
       "    </tr>\n",
       "  </tbody>\n",
       "</table>\n",
       "</div>"
      ],
      "text/plain": [
       "           ID 제조사      모델        차량상태   배터리용량 구동방식  주행거리(km)  보증기간(년) 사고이력  \\\n",
       "0  TRAIN_0000  P사  TayGTS  Nearly New  86.077  AWD     13642        0   No   \n",
       "1  TRAIN_0001  K사    Niro  Nearly New  56.000  FWD     10199        6   No   \n",
       "2  TRAIN_0002  A사      eT   Brand New  91.200  AWD      2361        7   No   \n",
       "3  TRAIN_0003  A사  RSeTGT  Nearly New     NaN  AWD     21683        3   No   \n",
       "4  TRAIN_0004  B사      i5   Pre-Owned  61.018  AWD    178205        1   No   \n",
       "\n",
       "   연식(년)  가격(백만원)  \n",
       "0      2   159.66  \n",
       "1      0    28.01  \n",
       "2      0    66.27  \n",
       "3      0    99.16  \n",
       "4      0    62.02  "
      ]
     },
     "metadata": {},
     "output_type": "display_data"
    },
    {
     "data": {
      "text/html": [
       "<div>\n",
       "<style scoped>\n",
       "    .dataframe tbody tr th:only-of-type {\n",
       "        vertical-align: middle;\n",
       "    }\n",
       "\n",
       "    .dataframe tbody tr th {\n",
       "        vertical-align: top;\n",
       "    }\n",
       "\n",
       "    .dataframe thead th {\n",
       "        text-align: right;\n",
       "    }\n",
       "</style>\n",
       "<table border=\"1\" class=\"dataframe\">\n",
       "  <thead>\n",
       "    <tr style=\"text-align: right;\">\n",
       "      <th></th>\n",
       "      <th>ID</th>\n",
       "      <th>제조사</th>\n",
       "      <th>모델</th>\n",
       "      <th>차량상태</th>\n",
       "      <th>배터리용량</th>\n",
       "      <th>구동방식</th>\n",
       "      <th>주행거리(km)</th>\n",
       "      <th>보증기간(년)</th>\n",
       "      <th>사고이력</th>\n",
       "      <th>연식(년)</th>\n",
       "    </tr>\n",
       "  </thead>\n",
       "  <tbody>\n",
       "    <tr>\n",
       "      <th>0</th>\n",
       "      <td>TEST_000</td>\n",
       "      <td>P사</td>\n",
       "      <td>TayCT</td>\n",
       "      <td>Nearly New</td>\n",
       "      <td>76.093</td>\n",
       "      <td>AWD</td>\n",
       "      <td>14057</td>\n",
       "      <td>2</td>\n",
       "      <td>No</td>\n",
       "      <td>0</td>\n",
       "    </tr>\n",
       "    <tr>\n",
       "      <th>1</th>\n",
       "      <td>TEST_001</td>\n",
       "      <td>B사</td>\n",
       "      <td>iX</td>\n",
       "      <td>Brand New</td>\n",
       "      <td>90.000</td>\n",
       "      <td>AWD</td>\n",
       "      <td>7547</td>\n",
       "      <td>8</td>\n",
       "      <td>No</td>\n",
       "      <td>0</td>\n",
       "    </tr>\n",
       "    <tr>\n",
       "      <th>2</th>\n",
       "      <td>TEST_002</td>\n",
       "      <td>B사</td>\n",
       "      <td>i5</td>\n",
       "      <td>Brand New</td>\n",
       "      <td>NaN</td>\n",
       "      <td>RWD</td>\n",
       "      <td>7197</td>\n",
       "      <td>7</td>\n",
       "      <td>Yes</td>\n",
       "      <td>0</td>\n",
       "    </tr>\n",
       "    <tr>\n",
       "      <th>3</th>\n",
       "      <td>TEST_003</td>\n",
       "      <td>H사</td>\n",
       "      <td>ION5</td>\n",
       "      <td>Nearly New</td>\n",
       "      <td>68.479</td>\n",
       "      <td>AWD</td>\n",
       "      <td>10357</td>\n",
       "      <td>7</td>\n",
       "      <td>No</td>\n",
       "      <td>1</td>\n",
       "    </tr>\n",
       "    <tr>\n",
       "      <th>4</th>\n",
       "      <td>TEST_004</td>\n",
       "      <td>K사</td>\n",
       "      <td>EV6</td>\n",
       "      <td>Brand New</td>\n",
       "      <td>NaN</td>\n",
       "      <td>FWD</td>\n",
       "      <td>7597</td>\n",
       "      <td>10</td>\n",
       "      <td>No</td>\n",
       "      <td>0</td>\n",
       "    </tr>\n",
       "  </tbody>\n",
       "</table>\n",
       "</div>"
      ],
      "text/plain": [
       "         ID 제조사     모델        차량상태   배터리용량 구동방식  주행거리(km)  보증기간(년) 사고이력  연식(년)\n",
       "0  TEST_000  P사  TayCT  Nearly New  76.093  AWD     14057        2   No      0\n",
       "1  TEST_001  B사     iX   Brand New  90.000  AWD      7547        8   No      0\n",
       "2  TEST_002  B사     i5   Brand New     NaN  RWD      7197        7  Yes      0\n",
       "3  TEST_003  H사   ION5  Nearly New  68.479  AWD     10357        7   No      1\n",
       "4  TEST_004  K사    EV6   Brand New     NaN  FWD      7597       10   No      0"
      ]
     },
     "metadata": {},
     "output_type": "display_data"
    }
   ],
   "source": [
    "train = pd.read_csv('train.csv')\n",
    "test = pd.read_csv('test.csv')\n",
    "display(train.head())\n",
    "display(test.head())"
   ]
  },
  {
   "cell_type": "code",
   "execution_count": 58,
   "id": "8abdde49",
   "metadata": {},
   "outputs": [
    {
     "data": {
      "text/plain": [
       "(846, 10)"
      ]
     },
     "execution_count": 58,
     "metadata": {},
     "output_type": "execute_result"
    }
   ],
   "source": [
    "# test.shape"
   ]
  },
  {
   "cell_type": "code",
   "execution_count": 59,
   "id": "dee80bfc",
   "metadata": {
    "scrolled": true
   },
   "outputs": [
    {
     "data": {
      "text/html": [
       "<div>\n",
       "<style scoped>\n",
       "    .dataframe tbody tr th:only-of-type {\n",
       "        vertical-align: middle;\n",
       "    }\n",
       "\n",
       "    .dataframe tbody tr th {\n",
       "        vertical-align: top;\n",
       "    }\n",
       "\n",
       "    .dataframe thead th {\n",
       "        text-align: right;\n",
       "    }\n",
       "</style>\n",
       "<table border=\"1\" class=\"dataframe\">\n",
       "  <thead>\n",
       "    <tr style=\"text-align: right;\">\n",
       "      <th></th>\n",
       "      <th>배터리용량</th>\n",
       "      <th>주행거리(km)</th>\n",
       "      <th>보증기간(년)</th>\n",
       "      <th>연식(년)</th>\n",
       "      <th>가격(백만원)</th>\n",
       "    </tr>\n",
       "  </thead>\n",
       "  <tbody>\n",
       "    <tr>\n",
       "      <th>count</th>\n",
       "      <td>4786.000000</td>\n",
       "      <td>7497.000000</td>\n",
       "      <td>7497.000000</td>\n",
       "      <td>7497.000000</td>\n",
       "      <td>7497.000000</td>\n",
       "    </tr>\n",
       "    <tr>\n",
       "      <th>mean</th>\n",
       "      <td>69.397187</td>\n",
       "      <td>44287.979458</td>\n",
       "      <td>4.960918</td>\n",
       "      <td>0.222489</td>\n",
       "      <td>62.331949</td>\n",
       "    </tr>\n",
       "    <tr>\n",
       "      <th>std</th>\n",
       "      <td>15.283635</td>\n",
       "      <td>55204.064386</td>\n",
       "      <td>3.155342</td>\n",
       "      <td>0.569232</td>\n",
       "      <td>36.646759</td>\n",
       "    </tr>\n",
       "    <tr>\n",
       "      <th>min</th>\n",
       "      <td>46.000000</td>\n",
       "      <td>3.000000</td>\n",
       "      <td>0.000000</td>\n",
       "      <td>0.000000</td>\n",
       "      <td>9.000000</td>\n",
       "    </tr>\n",
       "    <tr>\n",
       "      <th>25%</th>\n",
       "      <td>56.359000</td>\n",
       "      <td>5465.000000</td>\n",
       "      <td>2.000000</td>\n",
       "      <td>0.000000</td>\n",
       "      <td>34.390000</td>\n",
       "    </tr>\n",
       "    <tr>\n",
       "      <th>50%</th>\n",
       "      <td>68.125000</td>\n",
       "      <td>17331.000000</td>\n",
       "      <td>5.000000</td>\n",
       "      <td>0.000000</td>\n",
       "      <td>56.000000</td>\n",
       "    </tr>\n",
       "    <tr>\n",
       "      <th>75%</th>\n",
       "      <td>78.227000</td>\n",
       "      <td>61252.000000</td>\n",
       "      <td>8.000000</td>\n",
       "      <td>0.000000</td>\n",
       "      <td>80.050000</td>\n",
       "    </tr>\n",
       "    <tr>\n",
       "      <th>max</th>\n",
       "      <td>99.800000</td>\n",
       "      <td>199827.000000</td>\n",
       "      <td>10.000000</td>\n",
       "      <td>2.000000</td>\n",
       "      <td>161.090000</td>\n",
       "    </tr>\n",
       "  </tbody>\n",
       "</table>\n",
       "</div>"
      ],
      "text/plain": [
       "             배터리용량       주행거리(km)      보증기간(년)        연식(년)      가격(백만원)\n",
       "count  4786.000000    7497.000000  7497.000000  7497.000000  7497.000000\n",
       "mean     69.397187   44287.979458     4.960918     0.222489    62.331949\n",
       "std      15.283635   55204.064386     3.155342     0.569232    36.646759\n",
       "min      46.000000       3.000000     0.000000     0.000000     9.000000\n",
       "25%      56.359000    5465.000000     2.000000     0.000000    34.390000\n",
       "50%      68.125000   17331.000000     5.000000     0.000000    56.000000\n",
       "75%      78.227000   61252.000000     8.000000     0.000000    80.050000\n",
       "max      99.800000  199827.000000    10.000000     2.000000   161.090000"
      ]
     },
     "execution_count": 59,
     "metadata": {},
     "output_type": "execute_result"
    }
   ],
   "source": [
    "# train.describe()"
   ]
  },
  {
   "cell_type": "code",
   "execution_count": 60,
   "id": "aeb4f5ab",
   "metadata": {},
   "outputs": [
    {
     "data": {
      "text/plain": [
       "(7497, 11)"
      ]
     },
     "execution_count": 60,
     "metadata": {},
     "output_type": "execute_result"
    }
   ],
   "source": [
    "train.shape"
   ]
  },
  {
   "cell_type": "code",
   "execution_count": 80,
   "id": "71a0d1f8",
   "metadata": {
    "scrolled": true
   },
   "outputs": [
    {
     "data": {
      "text/plain": [
       "\"\\nplt.figure(figsize=(10, 6))\\nsns.histplot(data=train, x='주행거리(km)', kde=True, bins=25)\\n\\nplt.xlabel('배터리용량')\\nplt.title('배터리용량 분포')\\nplt.show() \\n\""
      ]
     },
     "execution_count": 80,
     "metadata": {},
     "output_type": "execute_result"
    }
   ],
   "source": [
    "\"\"\"\n",
    "plt.figure(figsize=(10, 6))\n",
    "sns.histplot(data=train, x='주행거리(km)', kde=True, bins=25)\n",
    "\n",
    "plt.xlabel('배터리용량')\n",
    "plt.title('배터리용량 분포')\n",
    "plt.show() \n",
    "\"\"\""
   ]
  },
  {
   "cell_type": "code",
   "execution_count": 82,
   "id": "69f2b28c",
   "metadata": {
    "scrolled": true
   },
   "outputs": [
    {
     "data": {
      "text/plain": [
       "\"\\nplt.figure(figsize=(10, 6))\\nsns.histplot(data=train, x='배터리용량', kde=True, bins=25)\\n\\nplt.xlabel('배터리용량')\\nplt.title('배터리용량 분포')\\nplt.show() \\n\""
      ]
     },
     "execution_count": 82,
     "metadata": {},
     "output_type": "execute_result"
    }
   ],
   "source": [
    "\"\"\"\n",
    "plt.figure(figsize=(10, 6))\n",
    "sns.histplot(data=train, x='배터리용량', kde=True, bins=25)\n",
    "\n",
    "plt.xlabel('배터리용량')\n",
    "plt.title('배터리용량 분포')\n",
    "plt.show() \n",
    "\"\"\""
   ]
  },
  {
   "cell_type": "code",
   "execution_count": 63,
   "id": "eae7d7b0",
   "metadata": {},
   "outputs": [],
   "source": [
    "train['배터리용량'] = train.groupby('모델')['배터리용량'].transform(lambda x: x.fillna(x.median()))\n",
    "test['배터리용량'] = test.groupby('모델')['배터리용량'].transform(lambda x: x.fillna(x.median()))"
   ]
  },
  {
   "cell_type": "code",
   "execution_count": 465,
   "id": "13ab1b94",
   "metadata": {},
   "outputs": [],
   "source": [
    "train['배터리용량'].fillna(train['배터리용량'].median(), inplace=True)\n",
    "test['배터리용량'].fillna(test['배터리용량'].median(), inplace=True)"
   ]
  },
  {
   "cell_type": "code",
   "execution_count": 64,
   "id": "b6aa8539",
   "metadata": {},
   "outputs": [],
   "source": [
    "#아웃라이어 제거\n",
    "\n",
    "def is_outliers(s):\n",
    "    lower_limit = s.mean() - (s.std()*3)\n",
    "    upper_limit = s.mean() + (s.std()*3)\n",
    "    return ~s.between(lower_limit, upper_limit)"
   ]
  },
  {
   "cell_type": "code",
   "execution_count": 65,
   "id": "35802eba",
   "metadata": {},
   "outputs": [],
   "source": [
    "train = train[~train.groupby('차량상태', group_keys=False)['가격(백만원)'].apply(is_outliers)]\n",
    "train = train[~train.groupby('구동방식', group_keys=False)['가격(백만원)'].apply(is_outliers)]\n",
    "train = train[~train.groupby('사고이력', group_keys=False)['가격(백만원)'].apply(is_outliers)]\n",
    "\n"
   ]
  },
  {
   "cell_type": "code",
   "execution_count": 66,
   "id": "e498bc03",
   "metadata": {},
   "outputs": [
    {
     "data": {
      "text/plain": [
       "(7497, 11)"
      ]
     },
     "execution_count": 66,
     "metadata": {},
     "output_type": "execute_result"
    }
   ],
   "source": [
    "# train.shape"
   ]
  },
  {
   "cell_type": "code",
   "execution_count": 67,
   "id": "55a6875d",
   "metadata": {},
   "outputs": [],
   "source": [
    "# train.head()\n",
    "train_id = train.pop('ID')\n",
    "test_id = test.pop('ID')\n",
    "y_train = train.pop('가격(백만원)')"
   ]
  },
  {
   "cell_type": "code",
   "execution_count": 68,
   "id": "1f52fd02",
   "metadata": {},
   "outputs": [
    {
     "data": {
      "text/plain": [
       "제조사         0\n",
       "모델          0\n",
       "차량상태        0\n",
       "배터리용량       0\n",
       "구동방식        0\n",
       "주행거리(km)    0\n",
       "보증기간(년)     0\n",
       "사고이력        0\n",
       "연식(년)       0\n",
       "dtype: int64"
      ]
     },
     "execution_count": 68,
     "metadata": {},
     "output_type": "execute_result"
    }
   ],
   "source": [
    "# train.isnull().sum()"
   ]
  },
  {
   "cell_type": "code",
   "execution_count": 69,
   "id": "dc2fd9d0",
   "metadata": {},
   "outputs": [],
   "source": [
    "# 스케일링\n",
    "from sklearn.preprocessing import StandardScaler\n",
    "scaler = StandardScaler()\n",
    "col = train.select_dtypes(include = ['number']).columns\n",
    "train[col] = scaler.fit_transform(train[col]) \n",
    "test[col] = scaler.transform(test[col]) "
   ]
  },
  {
   "cell_type": "code",
   "execution_count": 70,
   "id": "e8ae27b6",
   "metadata": {},
   "outputs": [],
   "source": [
    "#범주형 스케일링 (원핫인코딩)\n",
    "#train.head()\n",
    "col = ['모델', '제조사', '차량상태', '구동방식', '사고이력']\n",
    "train= pd.get_dummies(train, columns = col)\n",
    "test = pd.get_dummies(test, columns = col)"
   ]
  },
  {
   "cell_type": "code",
   "execution_count": 71,
   "id": "3b7208eb",
   "metadata": {
    "scrolled": true
   },
   "outputs": [
    {
     "data": {
      "text/html": [
       "<div>\n",
       "<style scoped>\n",
       "    .dataframe tbody tr th:only-of-type {\n",
       "        vertical-align: middle;\n",
       "    }\n",
       "\n",
       "    .dataframe tbody tr th {\n",
       "        vertical-align: top;\n",
       "    }\n",
       "\n",
       "    .dataframe thead th {\n",
       "        text-align: right;\n",
       "    }\n",
       "</style>\n",
       "<table border=\"1\" class=\"dataframe\">\n",
       "  <thead>\n",
       "    <tr style=\"text-align: right;\">\n",
       "      <th></th>\n",
       "      <th>배터리용량</th>\n",
       "      <th>주행거리(km)</th>\n",
       "      <th>보증기간(년)</th>\n",
       "      <th>연식(년)</th>\n",
       "      <th>모델_EV6</th>\n",
       "      <th>모델_ID4</th>\n",
       "      <th>모델_ION5</th>\n",
       "      <th>모델_ION6</th>\n",
       "      <th>모델_IONIQ</th>\n",
       "      <th>모델_KNE</th>\n",
       "      <th>...</th>\n",
       "      <th>제조사_T사</th>\n",
       "      <th>제조사_V사</th>\n",
       "      <th>차량상태_Brand New</th>\n",
       "      <th>차량상태_Nearly New</th>\n",
       "      <th>차량상태_Pre-Owned</th>\n",
       "      <th>구동방식_AWD</th>\n",
       "      <th>구동방식_FWD</th>\n",
       "      <th>구동방식_RWD</th>\n",
       "      <th>사고이력_No</th>\n",
       "      <th>사고이력_Yes</th>\n",
       "    </tr>\n",
       "  </thead>\n",
       "  <tbody>\n",
       "    <tr>\n",
       "      <th>0</th>\n",
       "      <td>0.993391</td>\n",
       "      <td>-0.555177</td>\n",
       "      <td>-1.572333</td>\n",
       "      <td>3.122858</td>\n",
       "      <td>0</td>\n",
       "      <td>0</td>\n",
       "      <td>0</td>\n",
       "      <td>0</td>\n",
       "      <td>0</td>\n",
       "      <td>0</td>\n",
       "      <td>...</td>\n",
       "      <td>0</td>\n",
       "      <td>0</td>\n",
       "      <td>0</td>\n",
       "      <td>1</td>\n",
       "      <td>0</td>\n",
       "      <td>1</td>\n",
       "      <td>0</td>\n",
       "      <td>0</td>\n",
       "      <td>1</td>\n",
       "      <td>0</td>\n",
       "    </tr>\n",
       "    <tr>\n",
       "      <th>1</th>\n",
       "      <td>-1.030704</td>\n",
       "      <td>-0.617550</td>\n",
       "      <td>0.329331</td>\n",
       "      <td>-0.390885</td>\n",
       "      <td>0</td>\n",
       "      <td>0</td>\n",
       "      <td>0</td>\n",
       "      <td>0</td>\n",
       "      <td>0</td>\n",
       "      <td>0</td>\n",
       "      <td>...</td>\n",
       "      <td>0</td>\n",
       "      <td>0</td>\n",
       "      <td>0</td>\n",
       "      <td>1</td>\n",
       "      <td>0</td>\n",
       "      <td>0</td>\n",
       "      <td>1</td>\n",
       "      <td>0</td>\n",
       "      <td>1</td>\n",
       "      <td>0</td>\n",
       "    </tr>\n",
       "    <tr>\n",
       "      <th>2</th>\n",
       "      <td>1.338154</td>\n",
       "      <td>-0.759541</td>\n",
       "      <td>0.646275</td>\n",
       "      <td>-0.390885</td>\n",
       "      <td>0</td>\n",
       "      <td>0</td>\n",
       "      <td>0</td>\n",
       "      <td>0</td>\n",
       "      <td>0</td>\n",
       "      <td>0</td>\n",
       "      <td>...</td>\n",
       "      <td>0</td>\n",
       "      <td>0</td>\n",
       "      <td>1</td>\n",
       "      <td>0</td>\n",
       "      <td>0</td>\n",
       "      <td>1</td>\n",
       "      <td>0</td>\n",
       "      <td>0</td>\n",
       "      <td>1</td>\n",
       "      <td>0</td>\n",
       "    </tr>\n",
       "    <tr>\n",
       "      <th>3</th>\n",
       "      <td>1.257398</td>\n",
       "      <td>-0.409508</td>\n",
       "      <td>-0.621501</td>\n",
       "      <td>-0.390885</td>\n",
       "      <td>0</td>\n",
       "      <td>0</td>\n",
       "      <td>0</td>\n",
       "      <td>0</td>\n",
       "      <td>0</td>\n",
       "      <td>0</td>\n",
       "      <td>...</td>\n",
       "      <td>0</td>\n",
       "      <td>0</td>\n",
       "      <td>0</td>\n",
       "      <td>1</td>\n",
       "      <td>0</td>\n",
       "      <td>1</td>\n",
       "      <td>0</td>\n",
       "      <td>0</td>\n",
       "      <td>1</td>\n",
       "      <td>0</td>\n",
       "    </tr>\n",
       "    <tr>\n",
       "      <th>4</th>\n",
       "      <td>-0.693008</td>\n",
       "      <td>2.426016</td>\n",
       "      <td>-1.255389</td>\n",
       "      <td>-0.390885</td>\n",
       "      <td>0</td>\n",
       "      <td>0</td>\n",
       "      <td>0</td>\n",
       "      <td>0</td>\n",
       "      <td>0</td>\n",
       "      <td>0</td>\n",
       "      <td>...</td>\n",
       "      <td>0</td>\n",
       "      <td>0</td>\n",
       "      <td>0</td>\n",
       "      <td>0</td>\n",
       "      <td>1</td>\n",
       "      <td>1</td>\n",
       "      <td>0</td>\n",
       "      <td>0</td>\n",
       "      <td>1</td>\n",
       "      <td>0</td>\n",
       "    </tr>\n",
       "  </tbody>\n",
       "</table>\n",
       "<p>5 rows × 40 columns</p>\n",
       "</div>"
      ],
      "text/plain": [
       "      배터리용량  주행거리(km)   보증기간(년)     연식(년)  모델_EV6  모델_ID4  모델_ION5  모델_ION6  \\\n",
       "0  0.993391 -0.555177 -1.572333  3.122858       0       0        0        0   \n",
       "1 -1.030704 -0.617550  0.329331 -0.390885       0       0        0        0   \n",
       "2  1.338154 -0.759541  0.646275 -0.390885       0       0        0        0   \n",
       "3  1.257398 -0.409508 -0.621501 -0.390885       0       0        0        0   \n",
       "4 -0.693008  2.426016 -1.255389 -0.390885       0       0        0        0   \n",
       "\n",
       "   모델_IONIQ  모델_KNE  ...  제조사_T사  제조사_V사  차량상태_Brand New  차량상태_Nearly New  \\\n",
       "0         0       0  ...       0       0               0                1   \n",
       "1         0       0  ...       0       0               0                1   \n",
       "2         0       0  ...       0       0               1                0   \n",
       "3         0       0  ...       0       0               0                1   \n",
       "4         0       0  ...       0       0               0                0   \n",
       "\n",
       "   차량상태_Pre-Owned  구동방식_AWD  구동방식_FWD  구동방식_RWD  사고이력_No  사고이력_Yes  \n",
       "0               0         1         0         0        1         0  \n",
       "1               0         0         1         0        1         0  \n",
       "2               0         1         0         0        1         0  \n",
       "3               0         1         0         0        1         0  \n",
       "4               1         1         0         0        1         0  \n",
       "\n",
       "[5 rows x 40 columns]"
      ]
     },
     "execution_count": 71,
     "metadata": {},
     "output_type": "execute_result"
    }
   ],
   "source": [
    "train.head()"
   ]
  },
  {
   "cell_type": "code",
   "execution_count": 72,
   "id": "f4b5314a",
   "metadata": {
    "scrolled": true
   },
   "outputs": [
    {
     "name": "stdout",
     "output_type": "stream",
     "text": [
      "(7497, 40) (846, 40)\n"
     ]
    }
   ],
   "source": [
    "print(train.shape, test.shape)"
   ]
  },
  {
   "cell_type": "code",
   "execution_count": 73,
   "id": "dbb6e454",
   "metadata": {
    "scrolled": false
   },
   "outputs": [
    {
     "name": "stdout",
     "output_type": "stream",
     "text": [
      "                            OLS Regression Results                            \n",
      "==============================================================================\n",
      "Dep. Variable:                가격(백만원)   R-squared:                       0.990\n",
      "Model:                            OLS   Adj. R-squared:                  0.990\n",
      "Method:                 Least Squares   F-statistic:                 2.525e+04\n",
      "Date:                Thu, 12 Dec 2024   Prob (F-statistic):               0.00\n",
      "Time:                        23:36:24   Log-Likelihood:                -20410.\n",
      "No. Observations:                7497   AIC:                         4.088e+04\n",
      "Df Residuals:                    7467   BIC:                         4.109e+04\n",
      "Df Model:                          29                                         \n",
      "Covariance Type:            nonrobust                                         \n",
      "===================================================================================\n",
      "                      coef    std err          t      P>|t|      [0.025      0.975]\n",
      "-----------------------------------------------------------------------------------\n",
      "const              26.6978      0.051    519.621      0.000      26.597      26.799\n",
      "배터리용량              -0.6509      0.100     -6.504      0.000      -0.847      -0.455\n",
      "주행거리(km)            0.0192      0.097      0.198      0.843      -0.170       0.209\n",
      "보증기간(년)             1.0405      0.114      9.143      0.000       0.817       1.264\n",
      "연식(년)              -0.7036      0.057    -12.263      0.000      -0.816      -0.591\n",
      "모델_EV6              8.9057      0.210     42.463      0.000       8.495       9.317\n",
      "모델_ID4             -9.6026      0.080   -120.453      0.000      -9.759      -9.446\n",
      "모델_ION5             0.0507      0.209      0.243      0.808      -0.359       0.460\n",
      "모델_ION6             3.0765      0.205     14.978      0.000       2.674       3.479\n",
      "모델_IONIQ          -16.9735      0.308    -55.066      0.000     -17.578     -16.369\n",
      "모델_KNE             -9.2177      0.223    -41.408      0.000      -9.654      -8.781\n",
      "모델_M3             -16.3476      0.275    -59.366      0.000     -16.887     -15.808\n",
      "모델_MS               7.3728      0.224     32.911      0.000       6.934       7.812\n",
      "모델_MX              16.0148      0.229     69.921      0.000      15.566      16.464\n",
      "모델_MY               3.7049      0.216     17.146      0.000       3.281       4.128\n",
      "모델_Niro           -12.2001      0.175    -69.908      0.000     -12.542     -11.858\n",
      "모델_Q4eT           -12.9329      0.172    -75.127      0.000     -13.270     -12.595\n",
      "모델_RSeTGT          28.6920      0.171    167.791      0.000      28.357      29.027\n",
      "모델_Soul           -16.9829      0.177    -96.080      0.000     -17.329     -16.636\n",
      "모델_Tay             -3.0826      0.171    -18.067      0.000      -3.417      -2.748\n",
      "모델_TayCT           13.7639      0.171     80.723      0.000      13.430      14.098\n",
      "모델_TayGTS          45.8474      0.167    274.377      0.000      45.520      46.175\n",
      "모델_eT              -2.1778      0.164    -13.295      0.000      -2.499      -1.857\n",
      "모델_i3             -33.8801      0.188   -180.479      0.000     -34.248     -33.512\n",
      "모델_i5               6.0903      0.158     38.586      0.000       5.781       6.400\n",
      "모델_iX              26.5764      0.201    131.976      0.000      26.182      26.971\n",
      "제조사_A사             13.5813      0.098    138.736      0.000      13.389      13.773\n",
      "제조사_B사             -1.2134      0.122     -9.979      0.000      -1.452      -0.975\n",
      "제조사_H사            -23.0640      0.115   -200.118      0.000     -23.290     -22.838\n",
      "제조사_K사            -20.2773      0.128   -157.807      0.000     -20.529     -20.025\n",
      "제조사_P사             56.5288      0.125    453.820      0.000      56.285      56.773\n",
      "제조사_T사             10.7450      0.095    112.817      0.000      10.558      10.932\n",
      "제조사_V사             -9.6026      0.080   -120.453      0.000      -9.759      -9.446\n",
      "차량상태_Brand New      5.6114      0.151     37.186      0.000       5.316       5.907\n",
      "차량상태_Nearly New    11.3550      0.092    123.922      0.000      11.175      11.535\n",
      "차량상태_Pre-Owned      9.7314      0.178     54.547      0.000       9.382      10.081\n",
      "구동방식_AWD            8.9995      0.101     89.128      0.000       8.802       9.197\n",
      "구동방식_FWD            9.0406      0.172     52.446      0.000       8.703       9.379\n",
      "구동방식_RWD            8.6576      0.175     49.353      0.000       8.314       9.002\n",
      "사고이력_No            13.3017      0.084    158.254      0.000      13.137      13.467\n",
      "사고이력_Yes           13.3960      0.123    108.920      0.000      13.155      13.637\n",
      "==============================================================================\n",
      "Omnibus:                      222.240   Durbin-Watson:                   1.998\n",
      "Prob(Omnibus):                  0.000   Jarque-Bera (JB):              322.564\n",
      "Skew:                          -0.310   Prob(JB):                     9.04e-71\n",
      "Kurtosis:                       3.806   Cond. No.                     1.24e+16\n",
      "==============================================================================\n",
      "\n",
      "Notes:\n",
      "[1] Standard Errors assume that the covariance matrix of the errors is correctly specified.\n",
      "[2] The smallest eigenvalue is 1.49e-28. This might indicate that there are\n",
      "strong multicollinearity problems or that the design matrix is singular.\n"
     ]
    },
    {
     "name": "stderr",
     "output_type": "stream",
     "text": [
      "C:\\Users\\dlago\\Anaconda3\\lib\\site-packages\\statsmodels\\tsa\\tsatools.py:142: FutureWarning: In a future version of pandas all arguments of concat except for the argument 'objs' will be keyword-only\n",
      "  x = pd.concat(x[::order], 1)\n"
     ]
    }
   ],
   "source": [
    "# 선형 회귀\n",
    "import statsmodels.api as sm\n",
    "X = train\n",
    "y = y_train\n",
    "\n",
    "# 상수항 추가 (절편 포함)\n",
    "X = sm.add_constant(X)\n",
    "\n",
    "# OLS 모델 생성\n",
    "model = sm.OLS(y, X)\n",
    "\n",
    "# 모델 학습\n",
    "results = model.fit()\n",
    "\n",
    "# 결과 요약 출력\n",
    "print(results.summary())"
   ]
  },
  {
   "cell_type": "code",
   "execution_count": 74,
   "id": "35f6dcb0",
   "metadata": {},
   "outputs": [],
   "source": [
    "# 유의하지않은 변수 삭제\n",
    "train.drop(columns=['주행거리(km)'], axis=1, inplace=True)\n",
    "test.drop(columns=['주행거리(km)'], axis=1, inplace=True)\n"
   ]
  },
  {
   "cell_type": "code",
   "execution_count": 75,
   "id": "de481b53",
   "metadata": {},
   "outputs": [],
   "source": [
    "# 데이터 분리\n",
    "from sklearn.model_selection import train_test_split\n",
    "X_tr, X_val, y_tr, y_val = train_test_split(train, y_train, test_size= 0.2, random_state =3000)"
   ]
  },
  {
   "cell_type": "code",
   "execution_count": 76,
   "id": "247beaf9",
   "metadata": {},
   "outputs": [],
   "source": [
    "from sklearn.ensemble import RandomForestRegressor\n",
    "rf = RandomForestRegressor()\n",
    "rf.fit(X_tr, y_tr)\n",
    "pred = rf.predict(X_val)"
   ]
  },
  {
   "cell_type": "code",
   "execution_count": 77,
   "id": "f2df934b",
   "metadata": {},
   "outputs": [
    {
     "name": "stdout",
     "output_type": "stream",
     "text": [
      "RMSE: 1.3513625770580833\n"
     ]
    }
   ],
   "source": [
    "from sklearn.metrics import mean_squared_error\n",
    "import numpy as np\n",
    "rmse = np.sqrt(mean_squared_error(y_val, pred))\n",
    "print(\"RMSE:\", rmse)"
   ]
  },
  {
   "cell_type": "code",
   "execution_count": 78,
   "id": "73bcf154",
   "metadata": {},
   "outputs": [
    {
     "name": "stdout",
     "output_type": "stream",
     "text": [
      "RMSE: 1.3513625770580833\n"
     ]
    }
   ],
   "source": [
    "from xgboost import XGBRegressor\n",
    "\n",
    "model = XGBRegressor(random_state=5024)\n",
    "model.fit(X_tr, y_tr)\n",
    "predictions = model.predict(X_val)\n",
    "rmse = np.sqrt(mean_squared_error(y_val, pred))\n",
    "print(\"RMSE:\", rmse)"
   ]
  },
  {
   "cell_type": "code",
   "execution_count": 79,
   "id": "4f82db86",
   "metadata": {},
   "outputs": [
    {
     "name": "stdout",
     "output_type": "stream",
     "text": [
      "[LightGBM] [Warning] Found whitespace in feature_names, replace with underlines\n",
      "[LightGBM] [Info] Auto-choosing col-wise multi-threading, the overhead of testing was 0.005002 seconds.\n",
      "You can set `force_col_wise=true` to remove the overhead.\n",
      "[LightGBM] [Info] Total Bins 185\n",
      "[LightGBM] [Info] Number of data points in the train set: 5997, number of used features: 39\n",
      "[LightGBM] [Info] Start training from score 62.216273\n",
      "RMSE: 1.3513625770580833\n"
     ]
    }
   ],
   "source": [
    "import lightgbm as lgb\n",
    "model = lgb.LGBMRegressor()\n",
    "\n",
    "# 모델 학습\n",
    "model.fit(X_tr, y_tr)\n",
    "\n",
    "# 예측\n",
    "predictions = model.predict(X_val)\n",
    "rmse = np.sqrt(mean_squared_error(y_val, pred))\n",
    "print(\"RMSE:\", rmse)"
   ]
  },
  {
   "cell_type": "code",
   "execution_count": 50,
   "id": "cbd694d4",
   "metadata": {},
   "outputs": [],
   "source": [
    "pred = model.predict(test)\n",
    "sub = pd.DataFrame({'ID': test_id,\n",
    "                   '가격(백만원)': pred})\n",
    "sub.to_csv('result13.csv', index = False)"
   ]
  },
  {
   "cell_type": "code",
   "execution_count": null,
   "id": "861136a2",
   "metadata": {},
   "outputs": [],
   "source": []
  }
 ],
 "metadata": {
  "kernelspec": {
   "display_name": "Python 3 (ipykernel)",
   "language": "python",
   "name": "python3"
  },
  "language_info": {
   "codemirror_mode": {
    "name": "ipython",
    "version": 3
   },
   "file_extension": ".py",
   "mimetype": "text/x-python",
   "name": "python",
   "nbconvert_exporter": "python",
   "pygments_lexer": "ipython3",
   "version": "3.9.7"
  }
 },
 "nbformat": 4,
 "nbformat_minor": 5
}
